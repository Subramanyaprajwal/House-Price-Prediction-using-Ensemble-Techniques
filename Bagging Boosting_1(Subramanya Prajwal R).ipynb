{
 "cells": [
  {
   "cell_type": "markdown",
   "metadata": {},
   "source": [
    "### <span style = 'color:green'> Build a machine learning algorithm to predict the house prices by using ensemble techniques.   </span>\n",
    "\n",
    "#### About the dataset\n",
    "\n",
    "Here's a brief version of what you'll find in the data description file.\n",
    "\n",
    "- SalePrice - the property's sale price in dollars. This is the target variable that you're trying to predict.\n",
    "- MSSubClass: The building class\n",
    "- MSZoning: The general zoning classification\n",
    "- LotFrontage: Linear feet of street connected to property\n",
    "- LotArea: Lot size in square feet\n",
    "- Street: Type of road access\n",
    "- Alley: Type of alley access\n",
    "- LotShape: General shape of property\n",
    "- LandContour: Flatness of the property\n",
    "- Utilities: Type of utilities available\n",
    "- LotConfig: Lot configuration\n",
    "- LandSlope: Slope of property\n",
    "- Neighborhood: Physical locations within Ames city limits\n",
    "- Condition1: Proximity to main road or railroad\n",
    "- Condition2: Proximity to main road or railroad (if a second is present)\n",
    "- BldgType: Type of dwelling\n",
    "- HouseStyle: Style of dwelling\n",
    "- OverallQual: Overall material and finish quality\n",
    "- OverallCond: Overall condition rating\n",
    "- YearBuilt: Original construction date\n",
    "- YearRemodAdd: Remodel date\n",
    "- RoofStyle: Type of roof\n",
    "- RoofMatl: Roof material\n",
    "- Exterior1st: Exterior covering on house\n",
    "- Exterior2nd: Exterior covering on house (if more than one material)\n",
    "- MasVnrType: Masonry veneer type\n",
    "- MasVnrArea: Masonry veneer area in square feet\n",
    "- ExterQual: Exterior material quality\n",
    "- ExterCond: Present condition of the material on the exterior\n",
    "- Foundation: Type of foundation\n",
    "- BsmtQual: Height of the basement\n",
    "- BsmtCond: General condition of the basement\n",
    "- BsmtExposure: Walkout or garden level basement walls\n",
    "- BsmtFinType1: Quality of basement finished area\n",
    "- BsmtFinSF1: Type 1 finished square feet\n",
    "- BsmtFinType2: Quality of second finished area (if present)\n",
    "- BsmtFinSF2: Type 2 finished square feet\n",
    "- BsmtUnfSF: Unfinished square feet of basement area\n",
    "- TotalBsmtSF: Total square feet of basement area\n",
    "- Heating: Type of heating\n",
    "- HeatingQC: Heating quality and condition\n",
    "- CentralAir: Central air conditioning\n",
    "- Electrical: Electrical system\n",
    "- 1stFlrSF: First Floor square feet\n",
    "- 2ndFlrSF: Second floor square feet\n",
    "- LowQualFinSF: Low quality finished square feet (all floors)\n",
    "- GrLivArea: Above grade (ground) living area square feet\n",
    "- BsmtFullBath: Basement full bathrooms\n",
    "- BsmtHalfBath: Basement half bathrooms\n",
    "- FullBath: Full bathrooms above grade\n",
    "- HalfBath: Half baths above grade\n",
    "- Bedroom: Number of bedrooms above basement level\n",
    "- Kitchen: Number of kitchens\n",
    "- KitchenQual: Kitchen quality\n",
    "- TotRmsAbvGrd: Total rooms above grade (does not include bathrooms)\n",
    "- Functional: Home functionality rating\n",
    "- Fireplaces: Number of fireplaces\n",
    "- FireplaceQu: Fireplace quality\n",
    "- GarageType: Garage location\n",
    "- GarageYrBlt: Year garage was built\n",
    "- GarageFinish: Interior finish of the garage\n",
    "- GarageCars: Size of garage in car capacity\n",
    "- GarageArea: Size of garage in square feet\n",
    "- GarageQual: Garage quality\n",
    "- GarageCond: Garage condition\n",
    "- PavedDrive: Paved driveway\n",
    "- WoodDeckSF: Wood deck area in square feet\n",
    "- OpenPorchSF: Open porch area in square feet\n",
    "- EnclosedPorch: Enclosed porch area in square feet\n",
    "- 3SsnPorch: Three season porch area in square feet\n",
    "- ScreenPorch: Screen porch area in square feet\n",
    "- PoolArea: Pool area in square feet\n",
    "- PoolQC: Pool quality\n",
    "- Fence: Fence quality\n",
    "- MiscFeature: Miscellaneous feature not covered in other categories\n",
    "- MiscVal: $Value of miscellaneous feature\n",
    "- MoSold: Month Sold\n",
    "- YrSold: Year Sold\n",
    "- SaleType: Type of sale\n",
    "- SaleCondition: Condition of sale\n",
    "\n",
    "\n",
    "- **File descriptions**\n",
    "- train.csv - the training set\n",
    "- test.csv - the test set\n",
    "- data_description.txt - full description of each column, originally prepared by Dean De Cock but lightly edited to match the column names used here\n",
    "\n",
    "**Ensemble Techniques**\n",
    "\n",
    "- Bagging - Building multiple models (typically of the same type) from different subsamples of the training dataset.\n",
    "- Boosting - Building multiple models (typically of the same type) each of which learns to fix the prediction errors of a prior model in the chain.\n",
    "- Voting - Building multiple models (typically of differing types) and simple statistics (like calculating the mean) are used to combine predictions.\n",
    "\n",
    "\n",
    "\n",
    "\n",
    "* Build Various ***ML Models*** with the view of ***increasing accuracy*** of the Model. \n",
    "\n",
    "\n",
    "1. Dicision trees regression\n",
    "\n",
    "2. random forest regression \n",
    "\n",
    "3. ADA boost\n",
    "\n",
    "4. Gradient Boosting with XGBoost\n",
    "\n",
    "\n",
    "\n",
    "\n",
    "### To download the dataset <a href = 'https://drive.google.com/file/d/1rknDE31orIy3R214mzd4Wcrlbyw7LS2O/view?usp=sharing' title = 'Google Drive'> Click Here"
   ]
  },
  {
   "cell_type": "code",
   "execution_count": 11,
   "metadata": {},
   "outputs": [],
   "source": [
    "import pandas as pd\n",
    "from sklearn.model_selection import train_test_split\n",
    "from sklearn.preprocessing import StandardScaler\n",
    "from sklearn.metrics import mean_squared_error\n",
    "from sklearn.tree import DecisionTreeRegressor\n",
    "from sklearn.ensemble import RandomForestRegressor, AdaBoostRegressor, GradientBoostingRegressor, BaggingRegressor, VotingRegressor\n",
    "from xgboost import XGBRegressor"
   ]
  },
  {
   "cell_type": "code",
   "execution_count": 13,
   "metadata": {},
   "outputs": [],
   "source": [
    "#Load the train and test datasets\n",
    "train_data = pd.read_csv('train(1).csv')\n",
    "test_data = pd.read_csv('test.csv')"
   ]
  },
  {
   "cell_type": "code",
   "execution_count": 14,
   "metadata": {},
   "outputs": [],
   "source": [
    "all_data = pd.concat([train_data, test_data], axis=0, ignore_index=True)"
   ]
  },
  {
   "cell_type": "code",
   "execution_count": 15,
   "metadata": {},
   "outputs": [],
   "source": [
    "all_data.dropna(axis=1, inplace=True)"
   ]
  },
  {
   "cell_type": "code",
   "execution_count": 21,
   "metadata": {},
   "outputs": [],
   "source": [
    "#Load the train and test datasets\n",
    "train_data = pd.read_csv('train(1).csv')\n",
    "test_data = pd.read_csv('test.csv')"
   ]
  },
  {
   "cell_type": "code",
   "execution_count": 23,
   "metadata": {},
   "outputs": [],
   "source": [
    "numeric_columns = all_data.select_dtypes(include=['number']).columns\n",
    "\n",
    "# Impute missing values with the mean of numeric columns\n",
    "all_data[numeric_columns] = all_data[numeric_columns].fillna(all_data[numeric_columns].mean())\n",
    "\n",
    "# Convert categorical variables to one-hot encoding\n",
    "all_data = pd.get_dummies(all_data)\n",
    "\n",
    "# Split features and target variable\n",
    "X_train = all_data[:len(train_data)].drop(columns=['SalePrice'])\n",
    "y_train = train_data['SalePrice']\n",
    "X_test = all_data[len(train_data):].drop(columns=['SalePrice'])\n",
    "\n",
    "# Step 5: Scale the features\n",
    "scaler = StandardScaler()\n",
    "X_train_scaled = scaler.fit_transform(X_train)\n",
    "X_test_scaled = scaler.transform(X_test)\n",
    "\n",
    "# Step 6: Train-test split for model evaluation\n",
    "X_train_eval, X_val, y_train_eval, y_val = train_test_split(X_train_scaled, y_train, test_size=0.2, random_state=42)\n"
   ]
  },
  {
   "cell_type": "code",
   "execution_count": 26,
   "metadata": {},
   "outputs": [
    {
     "name": "stdout",
     "output_type": "stream",
     "text": [
      "\n",
      "Decision Tree Regression:\n",
      "Training R^2 Score: 1.0\n",
      "\n",
      "Random Forest Regression:\n",
      "Training R^2 Score: 0.9802302759460504\n",
      "\n",
      "AdaBoost:\n",
      "Training R^2 Score: 0.8738536568526146\n",
      "\n",
      "Gradient Boosting with XGBoost:\n",
      "Training R^2 Score: 0.9996190384852393\n"
     ]
    }
   ],
   "source": [
    "# Decision Tree Regression\n",
    "dt_reg = DecisionTreeRegressor(random_state=42)\n",
    "dt_reg.fit(X_train, y_train)\n",
    "print(\"\\nDecision Tree Regression:\")\n",
    "print(\"Training R^2 Score:\", dt_reg.score(X_train, y_train))\n",
    "\n",
    "# Random Forest Regression\n",
    "rf_reg = RandomForestRegressor(random_state=42)\n",
    "rf_reg.fit(X_train, y_train)\n",
    "print(\"\\nRandom Forest Regression:\")\n",
    "print(\"Training R^2 Score:\", rf_reg.score(X_train, y_train))\n",
    "\n",
    "# AdaBoost\n",
    "adaboost_reg = AdaBoostRegressor(random_state=42)\n",
    "adaboost_reg.fit(X_train, y_train)\n",
    "print(\"\\nAdaBoost:\")\n",
    "print(\"Training R^2 Score:\", adaboost_reg.score(X_train, y_train))\n",
    "\n",
    "# Gradient Boosting with XGBoost\n",
    "xgb_reg = XGBRegressor(random_state=42)\n",
    "xgb_reg.fit(X_train, y_train)\n",
    "print(\"\\nGradient Boosting with XGBoost:\")\n",
    "print(\"Training R^2 Score:\", xgb_reg.score(X_train, y_train))"
   ]
  },
  {
   "cell_type": "code",
   "execution_count": 27,
   "metadata": {},
   "outputs": [
    {
     "name": "stdout",
     "output_type": "stream",
     "text": [
      "Mean Squared Error (MSE) on Validation Set: 19344377725.94379\n",
      "Best Hyperparameters: {'learning_rate': 0.2, 'max_depth': 3, 'min_child_weight': 1}\n",
      "Mean Squared Error (MSE) on Validation Set (Best Model): 723754364.3995544\n"
     ]
    }
   ],
   "source": [
    "# Step 7: Model Evaluation for Gradient Boosting with XGBoost\n",
    "# Make predictions on the validation set\n",
    "y_pred = xgb_reg.predict(X_val)\n",
    "\n",
    "# Evaluate the model using appropriate metrics\n",
    "mse = mean_squared_error(y_val, y_pred)\n",
    "print(\"Mean Squared Error (MSE) on Validation Set:\", mse)\n",
    "\n",
    "# Optionally, you can also calculate other evaluation metrics such as R-squared, MAE, etc.\n",
    "\n",
    "# Step 8: Hyperparameter Tuning (Optional)\n",
    "# If the model performance is not satisfactory, you can perform hyperparameter tuning to improve it.\n",
    "# You can use techniques like GridSearchCV or RandomizedSearchCV to search for the best hyperparameters.\n",
    "\n",
    "# For example:\n",
    "from sklearn.model_selection import GridSearchCV\n",
    "\n",
    "param_grid = {\n",
    "    'learning_rate': [0.05, 0.1, 0.2],\n",
    "    'max_depth': [3, 4, 5],\n",
    "    'min_child_weight': [1, 3, 5],\n",
    "    # Add more hyperparameters as needed\n",
    "}\n",
    "\n",
    "grid_search = GridSearchCV(estimator=XGBRegressor(random_state=42),\n",
    "                           param_grid=param_grid,\n",
    "                           scoring='neg_mean_squared_error',  # Use appropriate scoring metric\n",
    "                           cv=5)  # Cross-validation folds\n",
    "\n",
    "grid_search.fit(X_train_eval, y_train_eval)\n",
    "\n",
    "# Best hyperparameters\n",
    "print(\"Best Hyperparameters:\", grid_search.best_params_)\n",
    "\n",
    "# Evaluate the model with the best hyperparameters\n",
    "best_xgb_reg = grid_search.best_estimator_\n",
    "y_pred_best = best_xgb_reg.predict(X_val)\n",
    "mse_best = mean_squared_error(y_val, y_pred_best)\n",
    "print(\"Mean Squared Error (MSE) on Validation Set (Best Model):\", mse_best)\n"
   ]
  },
  {
   "cell_type": "code",
   "execution_count": null,
   "metadata": {},
   "outputs": [],
   "source": []
  },
  {
   "cell_type": "code",
   "execution_count": null,
   "metadata": {},
   "outputs": [],
   "source": []
  },
  {
   "cell_type": "code",
   "execution_count": null,
   "metadata": {},
   "outputs": [],
   "source": []
  },
  {
   "cell_type": "code",
   "execution_count": null,
   "metadata": {},
   "outputs": [],
   "source": []
  },
  {
   "cell_type": "code",
   "execution_count": null,
   "metadata": {},
   "outputs": [],
   "source": []
  },
  {
   "cell_type": "code",
   "execution_count": null,
   "metadata": {},
   "outputs": [],
   "source": []
  },
  {
   "cell_type": "code",
   "execution_count": null,
   "metadata": {},
   "outputs": [],
   "source": []
  },
  {
   "cell_type": "code",
   "execution_count": null,
   "metadata": {},
   "outputs": [],
   "source": []
  },
  {
   "cell_type": "code",
   "execution_count": null,
   "metadata": {},
   "outputs": [],
   "source": []
  },
  {
   "cell_type": "code",
   "execution_count": null,
   "metadata": {},
   "outputs": [],
   "source": []
  },
  {
   "cell_type": "code",
   "execution_count": null,
   "metadata": {},
   "outputs": [],
   "source": []
  },
  {
   "cell_type": "code",
   "execution_count": null,
   "metadata": {},
   "outputs": [],
   "source": []
  },
  {
   "cell_type": "code",
   "execution_count": null,
   "metadata": {},
   "outputs": [],
   "source": []
  },
  {
   "cell_type": "code",
   "execution_count": null,
   "metadata": {},
   "outputs": [],
   "source": []
  },
  {
   "cell_type": "code",
   "execution_count": null,
   "metadata": {},
   "outputs": [],
   "source": []
  },
  {
   "cell_type": "code",
   "execution_count": null,
   "metadata": {},
   "outputs": [],
   "source": []
  },
  {
   "cell_type": "code",
   "execution_count": null,
   "metadata": {},
   "outputs": [],
   "source": []
  },
  {
   "cell_type": "code",
   "execution_count": null,
   "metadata": {},
   "outputs": [],
   "source": []
  }
 ],
 "metadata": {
  "kernelspec": {
   "display_name": "Python 3 (ipykernel)",
   "language": "python",
   "name": "python3"
  },
  "language_info": {
   "codemirror_mode": {
    "name": "ipython",
    "version": 3
   },
   "file_extension": ".py",
   "mimetype": "text/x-python",
   "name": "python",
   "nbconvert_exporter": "python",
   "pygments_lexer": "ipython3",
   "version": "3.11.5"
  }
 },
 "nbformat": 4,
 "nbformat_minor": 4
}
